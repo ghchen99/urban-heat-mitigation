{
 "cells": [
  {
   "cell_type": "markdown",
   "metadata": {},
   "source": [
    "## Building Footprint Data\n",
    "Loading bounding coordinates of buildings in the area."
   ]
  },
  {
   "cell_type": "code",
   "execution_count": 3,
   "metadata": {},
   "outputs": [
    {
     "name": "stdout",
     "output_type": "stream",
     "text": [
      "Found 9436 placemarks\n"
     ]
    }
   ],
   "source": [
    "import xml.etree.ElementTree as ET\n",
    "\n",
    "def read_kml(file_path):\n",
    "    # Parse the KML file\n",
    "    tree = ET.parse(file_path)\n",
    "    root = tree.getroot()\n",
    "    \n",
    "    # Define the namespace\n",
    "    ns = {'kml': 'http://www.opengis.net/kml/2.2'}\n",
    "    \n",
    "    # Find all Placemarks\n",
    "    placemarks = root.findall('.//kml:Placemark', ns)\n",
    "    print(f\"Found {len(placemarks)} placemarks\")\n",
    "\n",
    "# Example usage\n",
    "kml_file = \"../data/Building_Footprint.kml\"  # Make sure this path is correct\n",
    "read_kml(kml_file)"
   ]
  },
  {
   "cell_type": "code",
   "execution_count": 4,
   "metadata": {},
   "outputs": [],
   "source": [
    "import xml.etree.ElementTree as ET\n",
    "import folium\n",
    "\n",
    "def parse_coordinates(coord_str):\n",
    "    # Split coordinates into pairs and convert to float\n",
    "    coords = []\n",
    "    pairs = coord_str.strip().split(' ')\n",
    "    for pair in pairs:\n",
    "        if pair:\n",
    "            lon, lat = pair.split(',')[:2]  # Take only first two values\n",
    "            coords.append([float(lat), float(lon)])  # Folium uses [lat, lon]\n",
    "    return coords\n",
    "\n",
    "def read_and_plot_kml(file_path):\n",
    "    # Parse KML\n",
    "    tree = ET.parse(file_path)\n",
    "    root = tree.getroot()\n",
    "    \n",
    "    # Create map centered on approximate middle of NYC\n",
    "    m = folium.Map(location=[40.785, -73.95], zoom_start=13)\n",
    "    \n",
    "    # Define namespace\n",
    "    ns = {'kml': 'http://www.opengis.net/kml/2.2'}\n",
    "    \n",
    "    # Find all coordinate sets\n",
    "    for coords in root.findall('.//kml:coordinates', ns):\n",
    "        coord_list = parse_coordinates(coords.text)\n",
    "        if coord_list:\n",
    "            # Create polygon for each building\n",
    "            folium.Polygon(\n",
    "                locations=coord_list,\n",
    "                color='blue',\n",
    "                fill=True,\n",
    "                weight=1\n",
    "            ).add_to(m)\n",
    "    \n",
    "    # Save map\n",
    "    m.save('building_footprints.html')\n",
    "\n",
    "# Use the function\n",
    "kml_file = \"../data/Building_Footprint.kml\"  # Adjust path as needed\n",
    "read_and_plot_kml(kml_file)"
   ]
  },
  {
   "cell_type": "markdown",
   "metadata": {},
   "source": [
    "## NY Mesonet Weather Data\n",
    "### Background\n",
    "\n",
    "This spreadsheet contains detailed weather data provided by the New York State Mesonet. There are two datasets (see worksheet tabs) located in the Bronx (Latitude=40.87248, Longitude=-73.89352, Altitude=57.5 meters) and Manhattan (Latitude = 40.76754, Longitude = -73.96449, Altitude = 94.8 meters). These two weather stations are located at the southern and northern ends of the ground traverse data (see \"Location\" tab). The data was collected near the surface (2-meters height) every 5 minutes during the day. This data may be useful for your AI model as it contains air temperature, wind speed and direction, and solar isolation (solar flux at the surface). \n",
    "\n",
    "### How might you use this data?\n",
    "\n",
    "* Temperature and Relative Humidity - These data were collected by the sensor at 2-meters height, near the ground. Since these data points are not part of the core challenge dataset, they should only be used for reference. As a note, when temperature is combined with relative humidity, it yields a \"heat index\" which is the apparent temperature experienced by the human body. High values of \"heat index\" have been known to contribute to health issues. \n",
    "\n",
    "* Wind Speed and Direction - It may be possible to use this information in your model. For example, wind speed and direction may impact the local mixing of air at the surface depending on local building geometries. Such variations in air mixing could impact local urban heating conditions. \n",
    "\n",
    "* Solar Flux - It may be possible to use this information in your model. For example, solar flux is the amount of solar energy that reaches the ground which is impacted by cloud cover and building shading. When combined with building footprint, building height, and sun angle data, it may be possible to predict the shading conditions for specific locations on the ground. Such information could impact local urban heating conditions. \n",
    "\n",
    "### How was temperature data collected for this challenge?\n",
    "\n",
    "The core temperature data for this challenge was collected using ground traverses in cars. The data was collected in the afternoon from 3:00pm to 4:00pm. The data was then converted to a UHI index using the actual temperature at any location divided by the mean temperature of the dataset. \n",
    "\n",
    "\n",
    "\n"
   ]
  },
  {
   "cell_type": "code",
   "execution_count": 5,
   "metadata": {},
   "outputs": [
    {
     "name": "stdout",
     "output_type": "stream",
     "text": [
      "Bronx DataFrame:\n",
      "          Date / Time  Air Temp at Surface [degC]  \\\n",
      "0 2021-07-24 06:00:00                        19.3   \n",
      "1 2021-07-24 06:05:00                        19.4   \n",
      "2 2021-07-24 06:10:00                        19.3   \n",
      "3 2021-07-24 06:15:00                        19.4   \n",
      "4 2021-07-24 06:20:00                        19.4   \n",
      "\n",
      "   Relative Humidity [percent]  Avg Wind Speed [m/s]  \\\n",
      "0                         88.2                   0.8   \n",
      "1                         87.9                   0.8   \n",
      "2                         87.6                   0.7   \n",
      "3                         87.4                   0.5   \n",
      "4                         87.0                   0.2   \n",
      "\n",
      "   Wind Direction [degrees]  Solar Flux [W/m^2]  \n",
      "0                       335                  12  \n",
      "1                       329                  18  \n",
      "2                       321                  25  \n",
      "3                       307                  33  \n",
      "4                       301                  42  \n",
      "\n",
      "Shape: (169, 6)\n",
      "\n",
      "Manhattan DataFrame:\n",
      "          Date / Time  Air Temp at Surface [degC]  \\\n",
      "0 2021-07-24 06:00:00                        21.3   \n",
      "1 2021-07-24 06:05:00                        21.4   \n",
      "2 2021-07-24 06:10:00                        21.4   \n",
      "3 2021-07-24 06:15:00                        21.5   \n",
      "4 2021-07-24 06:20:00                        21.5   \n",
      "\n",
      "   Relative Humidity [percent]  Avg Wind Speed [m/s]  \\\n",
      "0                         66.5                   0.9   \n",
      "1                         66.1                   1.1   \n",
      "2                         66.5                   1.3   \n",
      "3                         65.4                   1.3   \n",
      "4                         65.0                   1.5   \n",
      "\n",
      "   Wind Direction [degrees]  Solar Flux [W/m^2]  \n",
      "0                       348                  10  \n",
      "1                       345                  12  \n",
      "2                         4                  14  \n",
      "3                         5                  17  \n",
      "4                       346                  19  \n",
      "\n",
      "Shape: (169, 6)\n"
     ]
    },
    {
     "name": "stderr",
     "output_type": "stream",
     "text": [
      "/var/folders/fg/gtyh9bm95ssfs2_k2xlfk2d80000gp/T/ipykernel_33795/4112188364.py:9: FutureWarning: Parsed string \"2021-07-24 06:00:00 EDT\" included an un-recognized timezone \"EDT\". Dropping unrecognized timezones is deprecated; in a future version this will raise. Instead pass the string without the timezone, then use .tz_localize to convert to a recognized timezone.\n",
      "  bronx_df['Date / Time'] = pd.to_datetime(bronx_df['Date / Time'])\n",
      "/var/folders/fg/gtyh9bm95ssfs2_k2xlfk2d80000gp/T/ipykernel_33795/4112188364.py:10: FutureWarning: Parsed string \"2021-07-24 06:00:00 EDT\" included an un-recognized timezone \"EDT\". Dropping unrecognized timezones is deprecated; in a future version this will raise. Instead pass the string without the timezone, then use .tz_localize to convert to a recognized timezone.\n",
      "  manhattan_df['Date / Time'] = pd.to_datetime(manhattan_df['Date / Time'])\n"
     ]
    }
   ],
   "source": [
    "import pandas as pd\n",
    "\n",
    "def load_weather_data(file_path):\n",
    "    # Read specific sheets\n",
    "    bronx_df = pd.read_excel(file_path, sheet_name='Bronx')\n",
    "    manhattan_df = pd.read_excel(file_path, sheet_name='Manhattan')\n",
    "    \n",
    "    # Convert Date/Time column to datetime\n",
    "    bronx_df['Date / Time'] = pd.to_datetime(bronx_df['Date / Time'])\n",
    "    manhattan_df['Date / Time'] = pd.to_datetime(manhattan_df['Date / Time'])\n",
    "    \n",
    "    # Display basic info about each dataframe\n",
    "    print(\"Bronx DataFrame:\")\n",
    "    print(bronx_df.head())\n",
    "    print(\"\\nShape:\", bronx_df.shape)\n",
    "    \n",
    "    print(\"\\nManhattan DataFrame:\")\n",
    "    print(manhattan_df.head())\n",
    "    print(\"\\nShape:\", manhattan_df.shape)\n",
    "    \n",
    "    return bronx_df, manhattan_df\n",
    "\n",
    "# Load the data\n",
    "excel_file = \"../data/NY_Mesonet_Weather.xlsx\" \n",
    "bronx_df, manhattan_df = load_weather_data(excel_file)"
   ]
  },
  {
   "cell_type": "code",
   "execution_count": null,
   "metadata": {},
   "outputs": [],
   "source": []
  },
  {
   "cell_type": "code",
   "execution_count": null,
   "metadata": {},
   "outputs": [],
   "source": []
  },
  {
   "cell_type": "code",
   "execution_count": null,
   "metadata": {},
   "outputs": [],
   "source": []
  }
 ],
 "metadata": {
  "kernelspec": {
   "display_name": ".venv",
   "language": "python",
   "name": "python3"
  },
  "language_info": {
   "codemirror_mode": {
    "name": "ipython",
    "version": 3
   },
   "file_extension": ".py",
   "mimetype": "text/x-python",
   "name": "python",
   "nbconvert_exporter": "python",
   "pygments_lexer": "ipython3",
   "version": "3.12.0"
  }
 },
 "nbformat": 4,
 "nbformat_minor": 2
}
